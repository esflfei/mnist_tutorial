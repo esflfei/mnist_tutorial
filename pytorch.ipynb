{
 "cells": [
  {
   "cell_type": "markdown",
   "metadata": {},
   "source": [
    "# Pytorch Tutorial"
   ]
  },
  {
   "cell_type": "markdown",
   "metadata": {},
   "source": [
    "Pytorch is a popular deep learning framework and it's easy to get started."
   ]
  },
  {
   "cell_type": "code",
   "execution_count": 1,
   "metadata": {},
   "outputs": [],
   "source": [
    "import torch\n",
    "import torch.nn as nn\n",
    "import torch.utils.data as data\n",
    "import torchvision\n",
    "import torchvision.transforms as transforms\n",
    "from tqdm import tqdm\n",
    "import time\n",
    "\n",
    "BATCH_SIZE = 128\n",
    "NUM_EPOCHS = 10"
   ]
  },
  {
   "cell_type": "markdown",
   "metadata": {},
   "source": [
    "First, we read the mnist data, preprocess them and encapsulate them into dataloader form."
   ]
  },
  {
   "cell_type": "code",
   "execution_count": 2,
   "metadata": {},
   "outputs": [],
   "source": [
    "# preprocessing\n",
    "normalize = transforms.Normalize(mean=[.5], std=[.5])\n",
    "transform = transforms.Compose([transforms.ToTensor(), normalize])\n",
    "\n",
    "# download and load the data\n",
    "train_dataset = torchvision.datasets.MNIST(root='./mnist/', train=True, transform=transform, download=True)\n",
    "test_dataset = torchvision.datasets.MNIST(root='./mnist/', train=False, transform=transform, download=False)\n",
    "\n",
    "# encapsulate them into dataloader form\n",
    "train_loader = data.DataLoader(train_dataset, batch_size=BATCH_SIZE, shuffle=True, drop_last=True)\n",
    "test_loader = data.DataLoader(test_dataset, batch_size=BATCH_SIZE, shuffle=False, drop_last=True)"
   ]
  },
  {
   "cell_type": "markdown",
   "metadata": {},
   "source": [
    "Then, we define the model, object function and optimizer that we use to classify."
   ]
  },
  {
   "cell_type": "code",
   "execution_count": 3,
   "metadata": {},
   "outputs": [],
   "source": [
    "class SimpleNet(nn.Module):\n",
    "# TODO:define model\n",
    "    def __init__(self):\n",
    "        super(SimpleNet, self).__init__()    # super用法:Cnn继承父类nn.Model的属性，并用父类的方法初始化这些属性\n",
    "        self.conv = nn.Sequential(     #padding=2保证输入输出尺寸相同(参数依次是:输入深度，输出深度，ksize，步长，填充)\n",
    "            nn.Conv2d(1, 6, 5, stride = 1, padding = 2),\n",
    "            nn.ReLU(True),\n",
    "            nn.MaxPool2d(2, 2),\n",
    "            nn.Conv2d(6, 16, 5),\n",
    "            nn.ReLU(True), \n",
    "            nn.MaxPool2d(2, 2))\n",
    "\n",
    "        self.fc = nn.Sequential(\n",
    "            nn.Linear(400, 120), \n",
    "            nn.Linear(120, 84), \n",
    "            nn.Linear(84, 10))\n",
    "\n",
    "    def forward(self, x):\n",
    "        output = self.conv(x)\n",
    "        output = output.view(BATCH_SIZE, -1)\n",
    "        output = self.fc(output)\n",
    "        return output\n",
    "    \n",
    "model = SimpleNet()\n",
    "gpu = torch.cuda.is_available()\n",
    "if gpu:\n",
    "    model = model.cuda()\n",
    "# TODO:define loss function and optimiter\n",
    "criterion = nn.CrossEntropyLoss()\n",
    "optimizer = torch.optim.SGD(model.parameters(), lr = 1e-2)"
   ]
  },
  {
   "cell_type": "markdown",
   "metadata": {},
   "source": [
    "Next, we can start to train and evaluate!"
   ]
  },
  {
   "cell_type": "code",
   "execution_count": 4,
   "metadata": {
    "scrolled": true
   },
   "outputs": [
    {
     "name": "stderr",
     "output_type": "stream",
     "text": [
      "100%|████████████████████████████████████████████████████████████████████████████████| 468/468 [00:11<00:00, 41.08it/s]\n",
      "100%|████████████████████████████████████████████████████████████████████████████████| 468/468 [00:09<00:00, 48.16it/s]\n",
      "100%|████████████████████████████████████████████████████████████████████████████████| 468/468 [00:10<00:00, 43.91it/s]\n",
      "100%|████████████████████████████████████████████████████████████████████████████████| 468/468 [00:12<00:00, 37.43it/s]\n",
      "100%|████████████████████████████████████████████████████████████████████████████████| 468/468 [00:13<00:00, 35.49it/s]\n",
      "100%|████████████████████████████████████████████████████████████████████████████████| 468/468 [00:14<00:00, 32.64it/s]\n",
      "100%|████████████████████████████████████████████████████████████████████████████████| 468/468 [00:15<00:00, 30.28it/s]\n",
      "100%|████████████████████████████████████████████████████████████████████████████████| 468/468 [00:14<00:00, 32.32it/s]\n",
      "100%|████████████████████████████████████████████████████████████████████████████████| 468/468 [00:14<00:00, 32.54it/s]\n",
      "100%|████████████████████████████████████████████████████████████████████████████████| 468/468 [00:13<00:00, 34.42it/s]\n"
     ]
    },
    {
     "name": "stdout",
     "output_type": "stream",
     "text": [
      "Train acc: 0.975783\n",
      "Test acc: 0.977800\n"
     ]
    }
   ],
   "source": [
    "# train and evaluate\n",
    "for epoch in range(NUM_EPOCHS):\n",
    "    epoch_loss = 0.0\n",
    "    epoch_acc = 0.0\n",
    "    for images, labels in tqdm(train_loader):\n",
    "        # TODO:forward + backward + optimize\n",
    "        if gpu:\n",
    "            images = images.cuda()\n",
    "            labels = labels.cuda()\n",
    "        output = model(images)\n",
    "        loss = criterion(output, labels)\n",
    "        epoch_loss += loss.item() * labels.size(0)\n",
    "        _, prediction = torch.max(output, 1)\n",
    "        num_c = (prediction == labels).float().sum()\n",
    "        acc = (prediction == labels).float().mean()\n",
    "        epoch_acc += num_c.item()\n",
    "        optimizer.zero_grad()\n",
    "        loss.backward()\n",
    "        optimizer.step()\n",
    "\n",
    "    '''print('{} epoch, loss: {:.6f}, acc: {:.6f}'.format(\n",
    "        epoch + 1, epoch_loss / (len(train_dataset)), epoch_acc / len(train_dataset)))'''\n",
    "        \n",
    "    # evaluate\n",
    "    # TODO:calculate the accuracy using traning and testing dataset\n",
    "\n",
    "eval_loss = 0\n",
    "eval_acc = 0\n",
    "for images, labels in train_loader:\n",
    "    if gpu:\n",
    "        images = images.cuda()\n",
    "        labels = labels.cuda()\n",
    "    output = model(images)\n",
    "    loss = criterion(output, labels)\n",
    "    eval_loss += loss.item() * labels.size(0)\n",
    "    _, prediction = torch.max(output, 1)\n",
    "    num_c = (prediction == labels).sum()\n",
    "    eval_acc += num_c.item()\n",
    "# print('Train loss: {:.6f}, acc: {:.6f}'.format(eval_loss / (len(train_dataset)), eval_acc / (len(train_dataset))))\n",
    "print('Train acc: {:.6f}'.format(eval_acc / (len(train_dataset)))) # Train acc: 0.975783\n",
    "eval_loss = 0\n",
    "eval_acc = 0\n",
    "for images, labels in test_loader:\n",
    "    if gpu:\n",
    "        images = images.cuda()\n",
    "        labels = labels.cuda()\n",
    "    output = model(images)\n",
    "    loss = criterion(output, labels)\n",
    "    eval_loss += loss.item() * labels.size(0)\n",
    "    _, prediction = torch.max(output, 1)\n",
    "    num_c = (prediction == labels).float().sum()\n",
    "    eval_acc += num_c.item()\n",
    "# print('Test loss: {:.6f}, acc: {:.6f}'.format(eval_loss / (len(test_dataset)), eval_acc / (len(test_dataset))))  \n",
    "print('Test acc: {:.6f}'.format(eval_acc / (len(test_dataset)))) # Test acc: 0.977800\n",
    "\n"
   ]
  },
  {
   "cell_type": "markdown",
   "metadata": {},
   "source": [
    "#### Q5:\n",
    "Please print the training and testing accuracy."
   ]
  }
 ],
 "metadata": {
  "kernelspec": {
   "display_name": "Python 3",
   "language": "python",
   "name": "python3"
  },
  "language_info": {
   "codemirror_mode": {
    "name": "ipython",
    "version": 3
   },
   "file_extension": ".py",
   "mimetype": "text/x-python",
   "name": "python",
   "nbconvert_exporter": "python",
   "pygments_lexer": "ipython3",
   "version": "3.7.7"
  }
 },
 "nbformat": 4,
 "nbformat_minor": 2
}
